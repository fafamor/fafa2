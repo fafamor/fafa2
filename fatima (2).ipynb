{
 "cells": [
  {
   "cell_type": "markdown",
   "id": "b033344a-d11e-4255-94eb-122fea185b53",
   "metadata": {
    "tags": []
   },
   "source": [
    "# Data Science Tools and Ecosystem"
   ]
  },
  {
   "cell_type": "markdown",
   "id": "57dbacf3-043a-4a98-9da9-990c2b6704f9",
   "metadata": {
    "tags": []
   },
   "source": [
    "In this notebook, Data Science Tools and Ecosystem are summarized."
   ]
  },
  {
   "cell_type": "markdown",
   "id": "0b9dfa26-8697-471c-8309-e6de5ac07f05",
   "metadata": {
    "tags": []
   },
   "source": [
    "**Objectives:**\n",
    "\n",
    "- List popular languages for Data Science\n",
    "- Explain the key concepts and techniques used in data science\n",
    "- Describe the steps involved in a typical data science project"
   ]
  },
  {
   "cell_type": "markdown",
   "id": "ae295c86-d46a-41d5-a3c5-6c149a83df60",
   "metadata": {
    "tags": []
   },
   "source": [
    "Some of the popular languages that Data Scientists use are:\n",
    "\n",
    "1. python\n",
    "2. Visual Basic\n",
    "3. SQL\n",
    "4. JAVA\n",
    "5. C++\n",
    "6. Julia\n",
    "7. R\n",
    "8. php\n",
    "9. Scala"
   ]
  },
  {
   "cell_type": "markdown",
   "id": "9c8b1001-093e-4d4f-b41e-d8e36496ed24",
   "metadata": {
    "tags": []
   },
   "source": [
    "Some of the commonly used libraries used by Data Scientists include:\n",
    "\n",
    "1. Apache Spark\n",
    "2. Pandas\n",
    "3. PyTorch\n",
    "4. Numpy\n",
    "5. Keras\n",
    "6. Big DL\n",
    "\n"
   ]
  },
  {
   "cell_type": "markdown",
   "id": "f9dacd43-9bd9-46cf-b0ed-1ab3359354b2",
   "metadata": {
    "tags": []
   },
   "source": [
    "| Data Science Tools |\n",
    "| ------------------ |\n",
    "| Jupyter Notebook    |\n",
    "| RStudio             |\n",
    "| PyCharm             |"
   ]
  },
  {
   "cell_type": "markdown",
   "id": "3c71db1f-123d-4b85-8800-f7ab76867ca6",
   "metadata": {
    "tags": []
   },
   "source": [
    "### Below are a few examples of evaluating arithmetic expressions in Python"
   ]
  },
  {
   "cell_type": "code",
   "execution_count": 14,
   "id": "2f043761-1e5b-4127-97d4-0d31591ef69b",
   "metadata": {
    "tags": []
   },
   "outputs": [
    {
     "data": {
      "text/plain": [
       "17"
      ]
     },
     "execution_count": 14,
     "metadata": {},
     "output_type": "execute_result"
    }
   ],
   "source": [
    "# This is a simple arithmetic expression to multiply then add integers.\n",
    "(3*4)+5\n"
   ]
  },
  {
   "cell_type": "code",
   "execution_count": 27,
   "id": "5d0d74ff-4356-4b4c-80b6-0a47379e3d51",
   "metadata": {
    "tags": []
   },
   "outputs": [
    {
     "data": {
      "text/plain": [
       "3"
      ]
     },
     "execution_count": 27,
     "metadata": {},
     "output_type": "execute_result"
    }
   ],
   "source": [
    "# This will convert 200 minutes to hours by dividing by 60.\n",
    "200 // 60"
   ]
  },
  {
   "cell_type": "markdown",
   "id": "b920f642-b0d1-4524-b4e5-b274e9afb788",
   "metadata": {
    "tags": []
   },
   "source": [
    "## Author\n",
    "FATEMEHSADAT MORTAZAVIZADEH"
   ]
  },
  {
   "cell_type": "markdown",
   "id": "dca92e78-69d0-4b35-a4ae-913fbf867fb8",
   "metadata": {
    "tags": []
   },
   "source": []
  }
 ],
 "metadata": {
  "kernelspec": {
   "display_name": "Python 3 (ipykernel)",
   "language": "python",
   "name": "python3"
  },
  "language_info": {
   "codemirror_mode": {
    "name": "ipython",
    "version": 3
   },
   "file_extension": ".py",
   "mimetype": "text/x-python",
   "name": "python",
   "nbconvert_exporter": "python",
   "pygments_lexer": "ipython3",
   "version": "3.9.13"
  }
 },
 "nbformat": 4,
 "nbformat_minor": 5
}
